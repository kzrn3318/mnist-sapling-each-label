{
 "cells": [
  {
   "cell_type": "code",
   "execution_count": 1,
   "metadata": {},
   "outputs": [],
   "source": [
    "from keras.datasets import mnist\n",
    "import numpy as np\n",
    "import pandas as pd"
   ]
  },
  {
   "cell_type": "code",
   "execution_count": 2,
   "metadata": {},
   "outputs": [],
   "source": [
    "(x_train, y_train), (x_test, y_test) = mnist.load_data() # mnistのload"
   ]
  },
  {
   "cell_type": "code",
   "execution_count": 3,
   "metadata": {},
   "outputs": [],
   "source": [
    "#各label100枚ずつ足りだすためのコード、pandasを用いて行う\n",
    "df = pd.DataFrame(columns=[\"label\"])\n",
    "df[\"label\"] = y_train.reshape([-1])\n",
    "\n",
    "list_0 = df.loc[df.label==0].sample(n=100)#n=100でsampling\n",
    "list_1 = df.loc[df.label==1].sample(n=100)\n",
    "list_2 = df.loc[df.label==2].sample(n=100)\n",
    "list_3 = df.loc[df.label==3].sample(n=100)\n",
    "list_4 = df.loc[df.label==4].sample(n=100)\n",
    "list_5 = df.loc[df.label==5].sample(n=100)\n",
    "list_6 = df.loc[df.label==6].sample(n=100)\n",
    "list_7 = df.loc[df.label==7].sample(n=100)\n",
    "list_8 = df.loc[df.label==8].sample(n=100)\n",
    "list_9 = df.loc[df.label==9].sample(n=100)\n",
    "\n",
    "label_list = pd.concat([list_0,list_1,list_2,list_3,list_4,list_5,list_6,list_7,list_8,\n",
    "                       list_9])\n",
    "label_list = label_list.sort_index()\n",
    "label_idx = label_list.index.values\n",
    "\n",
    "train_label = label_list.label.values\n",
    "\n",
    "\"\"\"\n",
    "x_trainからlabel用のdataframe.indexを取り出すことでlabelに対応したデータを取り出す。\n",
    "\"\"\"\n",
    "x_train = x_train[label_idx]\n",
    "y_train= train_label\n",
    "x_train = x_train / 255\n",
    "x_test = x_test / 255"
   ]
  },
  {
   "cell_type": "code",
   "execution_count": 4,
   "metadata": {},
   "outputs": [
    {
     "data": {
      "text/plain": [
       "(1000, 28, 28)"
      ]
     },
     "execution_count": 4,
     "metadata": {},
     "output_type": "execute_result"
    }
   ],
   "source": [
    "x_train.shape #100 * 10なので1000になっていることが分かる"
   ]
  }
 ],
 "metadata": {
  "kernelspec": {
   "display_name": "Python 3",
   "language": "python",
   "name": "python3"
  },
  "language_info": {
   "codemirror_mode": {
    "name": "ipython",
    "version": 3
   },
   "file_extension": ".py",
   "mimetype": "text/x-python",
   "name": "python",
   "nbconvert_exporter": "python",
   "pygments_lexer": "ipython3",
   "version": "3.8.3"
  }
 },
 "nbformat": 4,
 "nbformat_minor": 4
}
